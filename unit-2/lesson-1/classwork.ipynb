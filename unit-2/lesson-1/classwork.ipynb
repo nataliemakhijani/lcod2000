{
 "cells": [
  {
   "cell_type": "markdown",
   "id": "21ddf76d",
   "metadata": {},
   "source": [
    "# Lists"
   ]
  },
  {
   "cell_type": "code",
   "execution_count": 2,
   "id": "06b8387a-cc0e-406b-aedc-51971792470d",
   "metadata": {},
   "outputs": [],
   "source": [
    "# data types: lists\n",
    "my_list = [1, 2, 3]"
   ]
  },
  {
   "cell_type": "code",
   "execution_count": 3,
   "id": "78355086",
   "metadata": {},
   "outputs": [],
   "source": [
    "# add something\n",
    "my_list.append(4) # mutates list"
   ]
  },
  {
   "cell_type": "code",
   "execution_count": 4,
   "id": "3cb52a9c",
   "metadata": {},
   "outputs": [
    {
     "data": {
      "text/plain": [
       "[1, 2, 3, 4]"
      ]
     },
     "execution_count": 4,
     "metadata": {},
     "output_type": "execute_result"
    }
   ],
   "source": [
    "my_list"
   ]
  },
  {
   "cell_type": "code",
   "execution_count": 5,
   "id": "484b9f4b",
   "metadata": {},
   "outputs": [
    {
     "data": {
      "text/plain": [
       "True"
      ]
     },
     "execution_count": 5,
     "metadata": {},
     "output_type": "execute_result"
    }
   ],
   "source": [
    "# check if something is in the list\n",
    "4 in my_list"
   ]
  },
  {
   "cell_type": "markdown",
   "id": "e46ba9e2",
   "metadata": {},
   "source": [
    "# Dictionaries"
   ]
  },
  {
   "cell_type": "code",
   "execution_count": 6,
   "id": "59463dab",
   "metadata": {},
   "outputs": [],
   "source": [
    "the_new_school = {\n",
    "    \"name\":\"The New School\",\n",
    "    \"inSession\": True,\n",
    "    \"colleges\": [ # nested dicts\n",
    "        {\n",
    "            \"name\": \"Eugene Lang College of Liberal Arts\",\n",
    "            \"aliases\": [\"lang\", \"eugene lang\"] # with lists, and any other data type\n",
    "        },\n",
    "        {\n",
    "            \"name\":\"Parsons School of Design\",\n",
    "            \"aliases\": [\"parsons\"]\n",
    "        },\n",
    "        {\n",
    "            \"name\":\"New School for Social Research\",\n",
    "            \"aliases\": [\"nssr\"]\n",
    "        }\n",
    "    ]\n",
    "}\n",
    "the_new_school[\"aliases\"] = [\"tns\"] # can set KV pairs like this too"
   ]
  },
  {
   "cell_type": "code",
   "execution_count": 7,
   "id": "f806e7cd",
   "metadata": {},
   "outputs": [
    {
     "data": {
      "text/plain": [
       "{'name': 'The New School',\n",
       " 'inSession': True,\n",
       " 'colleges': [{'name': 'Eugene Lang College of Liberal Arts',\n",
       "   'aliases': ['lang', 'eugene lang']},\n",
       "  {'name': 'Parsons School of Design', 'aliases': ['parsons']},\n",
       "  {'name': 'New School for Social Research', 'aliases': ['nssr']}],\n",
       " 'aliases': ['tns']}"
      ]
     },
     "execution_count": 7,
     "metadata": {},
     "output_type": "execute_result"
    }
   ],
   "source": [
    "the_new_school"
   ]
  },
  {
   "cell_type": "code",
   "execution_count": 8,
   "id": "3d3eb719",
   "metadata": {},
   "outputs": [],
   "source": [
    "def what_are_they_talking_about(university, term):\n",
    "    for college in university[\"colleges\"]:\n",
    "        if term in college[\"aliases\"]:\n",
    "            print(\"They're probably talking about \" + college[\"name\"])"
   ]
  },
  {
   "cell_type": "code",
   "execution_count": 9,
   "id": "e498112f",
   "metadata": {},
   "outputs": [
    {
     "name": "stdout",
     "output_type": "stream",
     "text": [
      "They're probably talking about New School for Social Research\n"
     ]
    }
   ],
   "source": [
    "what_are_they_talking_about(the_new_school, \"nssr\")"
   ]
  },
  {
   "cell_type": "markdown",
   "id": "4959de2e",
   "metadata": {},
   "source": [
    "Loop through a dictionary"
   ]
  },
  {
   "cell_type": "code",
   "execution_count": 10,
   "id": "305cfcb5",
   "metadata": {},
   "outputs": [
    {
     "name": "stdout",
     "output_type": "stream",
     "text": [
      "name ---> The New School\n",
      "inSession ---> True\n",
      "colleges ---> [{'name': 'Eugene Lang College of Liberal Arts', 'aliases': ['lang', 'eugene lang']}, {'name': 'Parsons School of Design', 'aliases': ['parsons']}, {'name': 'New School for Social Research', 'aliases': ['nssr']}]\n",
      "aliases ---> ['tns']\n"
     ]
    }
   ],
   "source": [
    "for key in the_new_school:\n",
    "    print(key, \"--->\", the_new_school[key])"
   ]
  },
  {
   "cell_type": "markdown",
   "id": "b27b71ab",
   "metadata": {},
   "source": [
    "Check if key exists in dictionary"
   ]
  },
  {
   "cell_type": "code",
   "execution_count": 11,
   "id": "dbf0c888",
   "metadata": {},
   "outputs": [
    {
     "data": {
      "text/plain": [
       "True"
      ]
     },
     "execution_count": 11,
     "metadata": {},
     "output_type": "execute_result"
    }
   ],
   "source": [
    "\"name\" in the_new_school"
   ]
  },
  {
   "cell_type": "markdown",
   "id": "cabb199b",
   "metadata": {},
   "source": [
    "## Data structures\n",
    "data structure is important. in some cases, it makes sense to model the data structure off of the real thing"
   ]
  },
  {
   "cell_type": "code",
   "execution_count": 12,
   "id": "02c938aa",
   "metadata": {},
   "outputs": [],
   "source": [
    "university = {\n",
    "    \"name\": \"the new school\",\n",
    "    \"colleges\": [\n",
    "        {\n",
    "            \"name\": \"lang\",\n",
    "            \"departments\": [\n",
    "                {\n",
    "                    # ...\n",
    "                }\n",
    "            ]\n",
    "        }\n",
    "    ]\n",
    "}"
   ]
  },
  {
   "cell_type": "markdown",
   "id": "922d57fb",
   "metadata": {},
   "source": [
    "# sources of data"
   ]
  },
  {
   "cell_type": "markdown",
   "id": "06510067",
   "metadata": {},
   "source": [
    "## image metadata\n",
    "images are a gold mine (and privacy disaster)"
   ]
  },
  {
   "cell_type": "code",
   "execution_count": 13,
   "id": "d08b9251",
   "metadata": {},
   "outputs": [],
   "source": [
    "from os import listdir, path\n",
    "from PIL import Image, ExifTags"
   ]
  },
  {
   "cell_type": "code",
   "execution_count": 14,
   "id": "662b21bc",
   "metadata": {},
   "outputs": [],
   "source": [
    "img=Image.open(\"image.jpeg\")\n",
    "exif_data = img.getexif()"
   ]
  },
  {
   "cell_type": "markdown",
   "id": "2b57cabf",
   "metadata": {},
   "source": [
    "theres more, check rae's github later"
   ]
  }
 ],
 "metadata": {
  "kernelspec": {
   "display_name": "Python 3",
   "language": "python",
   "name": "python3"
  },
  "language_info": {
   "codemirror_mode": {
    "name": "ipython",
    "version": 3
   },
   "file_extension": ".py",
   "mimetype": "text/x-python",
   "name": "python",
   "nbconvert_exporter": "python",
   "pygments_lexer": "ipython3",
   "version": "3.12.2"
  }
 },
 "nbformat": 4,
 "nbformat_minor": 5
}
