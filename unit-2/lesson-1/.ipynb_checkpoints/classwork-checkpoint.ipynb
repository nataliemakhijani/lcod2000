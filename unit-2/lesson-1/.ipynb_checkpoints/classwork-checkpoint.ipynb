{
 "cells": [
  {
   "cell_type": "code",
   "execution_count": 3,
   "id": "06b8387a-cc0e-406b-aedc-51971792470d",
   "metadata": {},
   "outputs": [],
   "source": [
    "# data types\n",
    "my_list = [1, 2, 3]\n",
    "my_dictionary = {\n",
    "    \"hello\": True,\n",
    "    \"goodbye\": False\n",
    "}"
   ]
  },
  {
   "cell_type": "code",
   "execution_count": 4,
   "id": "fdcfcc3f-4a97-48bc-bf8f-035db55a0d74",
   "metadata": {},
   "outputs": [
    {
     "name": "stdout",
     "output_type": "stream",
     "text": [
      "{'hello': True, 'goodbye': False}\n"
     ]
    }
   ],
   "source": [
    "print(my_dictionary)"
   ]
  }
 ],
 "metadata": {
  "kernelspec": {
   "display_name": "Python 3 (ipykernel)",
   "language": "python",
   "name": "python3"
  },
  "language_info": {
   "codemirror_mode": {
    "name": "ipython",
    "version": 3
   },
   "file_extension": ".py",
   "mimetype": "text/x-python",
   "name": "python",
   "nbconvert_exporter": "python",
   "pygments_lexer": "ipython3",
   "version": "3.12.2"
  }
 },
 "nbformat": 4,
 "nbformat_minor": 5
}
